{
  "nbformat": 4,
  "nbformat_minor": 0,
  "metadata": {
    "colab": {
      "private_outputs": true,
      "provenance": [],
      "gpuType": "T4"
    },
    "kernelspec": {
      "name": "python3",
      "display_name": "Python 3"
    },
    "language_info": {
      "name": "python"
    },
    "accelerator": "GPU"
  },
  "cells": [
    {
      "cell_type": "code",
      "source": [
        "!pip install torch torchvision torchaudio --extra-index-url https://download.pytorch.org/whl/cu113"
      ],
      "metadata": {
        "id": "zkIbBUxetkXP"
      },
      "execution_count": null,
      "outputs": []
    },
    {
      "cell_type": "code",
      "source": [
        "!pip install opencv-python glob2"
      ],
      "metadata": {
        "id": "QCuCSWSntqAc"
      },
      "execution_count": null,
      "outputs": []
    },
    {
      "cell_type": "code",
      "source": [
        "!git clone https://github.com/xinntao/ESRGAN.git"
      ],
      "metadata": {
        "id": "lHYh6Ge_09cX"
      },
      "execution_count": null,
      "outputs": []
    },
    {
      "cell_type": "code",
      "source": [
        "%cd /content/ESRGAN"
      ],
      "metadata": {
        "id": "W5zJuM-CzRun"
      },
      "execution_count": null,
      "outputs": []
    },
    {
      "cell_type": "code",
      "source": [
        "%ls"
      ],
      "metadata": {
        "id": "wPdqiNAG0nI2"
      },
      "execution_count": null,
      "outputs": []
    },
    {
      "cell_type": "code",
      "source": [
        "!gdown --id 1TPrz5QKd8DHHt1k8SRtm6tMiPjz_Qene"
      ],
      "metadata": {
        "id": "vbcWhSWA3VS2"
      },
      "execution_count": null,
      "outputs": []
    },
    {
      "cell_type": "code",
      "source": [
        "!gdown --id 1UlNPXDxMwFoYKpQg_Tm32j647HqGYJii"
      ],
      "metadata": {
        "id": "70A27Ykhubsg"
      },
      "execution_count": null,
      "outputs": []
    },
    {
      "cell_type": "code",
      "source": [
        "import zipfile\n",
        "with zipfile.ZipFile(\"/content/vid4.zip\",\"r\") as zip:\n",
        "  zip.extractall(\"/content/vid4\")"
      ],
      "metadata": {
        "id": "meEdDITeubgL"
      },
      "execution_count": null,
      "outputs": []
    },
    {
      "cell_type": "code",
      "source": [
        "# Extracting frame from video\n",
        "import cv2\n",
        "import os\n",
        "from pathlib import Path\n",
        "\n",
        "cap=cv2.VideoCapture(\"[original_video_path]\") # original video path\n",
        "fps=int(cap.get(cv2.CAP_PROP_FPS))\n",
        "width=int(cap.get(cv2.CAP_PROP_FRAME_WIDTH))\n",
        "height=int(cap.get(cv2.CAP_PROP_FRAME_HEIGHT))\n",
        "\n",
        "i=0\n",
        "while True:\n",
        "  status,frame=cv2.read()\n",
        "  cv2.imwrite(f\"/content/original_video_frame/frame{i}.jpg\",frame)\n",
        "  if not status:\n",
        "    break\n",
        "  i+=1\n",
        "\n",
        "\n",
        "cap.release()\n"
      ],
      "metadata": {
        "id": "8OFmhC09kvYx"
      },
      "execution_count": null,
      "outputs": []
    },
    {
      "cell_type": "code",
      "source": [
        "# converting in low resolution\n",
        "import cv2\n",
        "import os\n",
        "from pathlib import Path\n",
        "\n",
        "path=\"/content/vid4/walk\" # frames path\n",
        "folder=os.listdir(path)\n",
        "\n",
        "\n",
        "i=0\n",
        "for frame_path in folder:\n",
        "  frame=cv2.imread(str(path+\"/\"+frame_path))\n",
        "  lr_frame=cv2.resize(frame,(128,128))\n",
        "  cv2.imwrite(f\"/content/ESRGAN/LR/{frame_path}\",lr_frame)\n",
        "  i+=1\n",
        "\n",
        "\n",
        "\n"
      ],
      "metadata": {
        "id": "b3HuLwrAmzk-"
      },
      "execution_count": null,
      "outputs": []
    },
    {
      "cell_type": "code",
      "source": [
        "!python /content/ESRGAN/test.py"
      ],
      "metadata": {
        "id": "W7rkNWvGzZdX"
      },
      "execution_count": null,
      "outputs": []
    },
    {
      "cell_type": "code",
      "source": [
        "# Generating video from frames\n",
        "\n",
        "import cv2\n",
        "import os\n",
        "from pathlib import Path\n",
        "\n",
        "\n",
        "# path=\"/content/original_video.mp4\"\n",
        "# lr_path=\"/content/lr_video.mp4\"\n",
        "sr_path=\"/content/sr_video.mp4\"\n",
        "\n",
        "\n",
        "\n",
        "folder=Path(\"/content/ESRGAN/results\").iterdir()  #super resoluton frame path\n",
        "folder=sorted(folder)\n",
        "\n",
        "img = cv2.imread(\"/content/ESRGAN/results/001_rlt.png\")\n",
        "width,height,_=img.shape\n",
        "fps=8\n",
        "\n",
        "fourcc=cv2.VideoWriter_fourcc(*'mp4v')\n",
        "# vid=cv2.VideoWriter(path,fourcc,fps,(width,height))\n",
        "# vid=cv2.VideoWriter(lr_path,fourcc,fps,(width,height))\n",
        "vid=cv2.VideoWriter(sr_path,fourcc,fps,(width,height))\n",
        "\n",
        "\n",
        "\n",
        "\n",
        "\n",
        "\n",
        "for frame_path in folder:\n",
        "  frame=cv2.imread(str(frame_path))\n",
        "  vid.write(frame)\n",
        "\n",
        "vid.release()\n"
      ],
      "metadata": {
        "id": "QZ-IfBYImznY"
      },
      "execution_count": null,
      "outputs": []
    },
    {
      "cell_type": "code",
      "source": [],
      "metadata": {
        "id": "ZwDC6iAAvZMd"
      },
      "execution_count": null,
      "outputs": []
    }
  ]
}